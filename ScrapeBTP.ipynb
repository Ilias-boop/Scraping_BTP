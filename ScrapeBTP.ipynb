{
 "cells": [
  {
   "cell_type": "code",
   "execution_count": null,
   "metadata": {},
   "outputs": [],
   "source": [
    "!pip install requests\n",
    "!pip install html5lib\n",
    "!pip install bs4"
   ]
  },
  {
   "cell_type": "code",
   "execution_count": 1,
   "metadata": {},
   "outputs": [],
   "source": [
    "import pandas as pd\n",
    "import numpy as np\n",
    "import requests\n",
    "from bs4 import BeautifulSoup as bs, SoupStrainer\n",
    "import matplotlib.pyplot as plt\n",
    "%matplotlib inline"
   ]
  },
  {
   "cell_type": "code",
   "execution_count": 10,
   "metadata": {},
   "outputs": [],
   "source": [
    "page = 1\n",
    "list_articles = []\n",
    "while page != 70:\n",
    "      url = f\"https://www.balancetonporc.com/categorie/les-temoignages/page/{page}/\"\n",
    "      response = requests.get(url)\n",
    "      html = response.content\n",
    "      soup = bs(response.content, 'lxml')\n",
    "      for article in soup.find_all(\"div\", class_=\"item-inner\"):\n",
    "            t_article = {}\n",
    "            try:\n",
    "                    t_article[\"Titre\"] = article.find(\"h2\", class_=\"title\").get_text(strip=True)\n",
    "            except:\n",
    "                    t_article[\"Titre\"] = ''\n",
    "            try:\n",
    "                    t_article[\"Thème\"] = article.a.get_text(strip=True)\n",
    "            except:\n",
    "                    t_article[\"Thème\"] = ''\n",
    "            try:\n",
    "                    t_article[\"Post\"] = article.find(\"div\", class_=\"content-wrap\").get_text(strip=True)\n",
    "            except:\n",
    "                    t_article[\"Post\"] = ''\n",
    "            try:\n",
    "                    t_article[\"Date\"] = article.time['datetime']\n",
    "            except:\n",
    "                    t_article[\"Date\"] = ''\n",
    "            list_articles.append(t_article)\n",
    "      page = page + 1 "
   ]
  },
  {
   "cell_type": "code",
   "execution_count": null,
   "metadata": {},
   "outputs": [],
   "source": [
    "for t_article in list_articles[:5]:\n",
    "    print(list_articles)"
   ]
  },
  {
   "cell_type": "code",
   "execution_count": 11,
   "metadata": {},
   "outputs": [
    {
     "data": {
      "text/html": [
       "<div>\n",
       "<style scoped>\n",
       "    .dataframe tbody tr th:only-of-type {\n",
       "        vertical-align: middle;\n",
       "    }\n",
       "\n",
       "    .dataframe tbody tr th {\n",
       "        vertical-align: top;\n",
       "    }\n",
       "\n",
       "    .dataframe thead th {\n",
       "        text-align: right;\n",
       "    }\n",
       "</style>\n",
       "<table border=\"1\" class=\"dataframe\">\n",
       "  <thead>\n",
       "    <tr style=\"text-align: right;\">\n",
       "      <th></th>\n",
       "      <th>Titre</th>\n",
       "      <th>Thème</th>\n",
       "      <th>Post</th>\n",
       "      <th>Date</th>\n",
       "    </tr>\n",
       "  </thead>\n",
       "  <tbody>\n",
       "    <tr>\n",
       "      <th>0</th>\n",
       "      <td>Photos à mon insu, pedopornographie</td>\n",
       "      <td>Au sein du couple</td>\n",
       "      <td></td>\n",
       "      <td>2023-08-07T14:00:17+02:00</td>\n",
       "    </tr>\n",
       "    <tr>\n",
       "      <th>1</th>\n",
       "      <td>Plainte pour menace de viol</td>\n",
       "      <td>Autre</td>\n",
       "      <td></td>\n",
       "      <td>2023-08-07T08:47:45+02:00</td>\n",
       "    </tr>\n",
       "    <tr>\n",
       "      <th>2</th>\n",
       "      <td>Viol entre époux</td>\n",
       "      <td>Au sein du couple</td>\n",
       "      <td></td>\n",
       "      <td>2023-08-06T13:25:39+02:00</td>\n",
       "    </tr>\n",
       "    <tr>\n",
       "      <th>3</th>\n",
       "      <td>J’ai été touchée par mon frère quand j’étais p...</td>\n",
       "      <td>Cercle familial</td>\n",
       "      <td></td>\n",
       "      <td>2023-08-06T00:27:40+02:00</td>\n",
       "    </tr>\n",
       "    <tr>\n",
       "      <th>4</th>\n",
       "      <td>Toxique-rappeur/manipulateur/menteur</td>\n",
       "      <td>Autre</td>\n",
       "      <td></td>\n",
       "      <td>2023-08-04T15:39:52+02:00</td>\n",
       "    </tr>\n",
       "    <tr>\n",
       "      <th>...</th>\n",
       "      <td>...</td>\n",
       "      <td>...</td>\n",
       "      <td>...</td>\n",
       "      <td>...</td>\n",
       "    </tr>\n",
       "    <tr>\n",
       "      <th>2272</th>\n",
       "      <td></td>\n",
       "      <td>J’ai été touchée par mon frère quand j’étais p...</td>\n",
       "      <td></td>\n",
       "      <td></td>\n",
       "    </tr>\n",
       "    <tr>\n",
       "      <th>2273</th>\n",
       "      <td></td>\n",
       "      <td>Toxique-rappeur/manipulateur/menteur</td>\n",
       "      <td></td>\n",
       "      <td></td>\n",
       "    </tr>\n",
       "    <tr>\n",
       "      <th>2274</th>\n",
       "      <td></td>\n",
       "      <td></td>\n",
       "      <td></td>\n",
       "      <td>2018-08-10T20:45:37+02:00</td>\n",
       "    </tr>\n",
       "    <tr>\n",
       "      <th>2275</th>\n",
       "      <td></td>\n",
       "      <td></td>\n",
       "      <td></td>\n",
       "      <td>2018-08-04T21:30:39+02:00</td>\n",
       "    </tr>\n",
       "    <tr>\n",
       "      <th>2276</th>\n",
       "      <td></td>\n",
       "      <td></td>\n",
       "      <td></td>\n",
       "      <td>2018-06-20T17:48:54+02:00</td>\n",
       "    </tr>\n",
       "  </tbody>\n",
       "</table>\n",
       "<p>2277 rows × 4 columns</p>\n",
       "</div>"
      ],
      "text/plain": [
       "                                                  Titre  \\\n",
       "0                   Photos à mon insu, pedopornographie   \n",
       "1                           Plainte pour menace de viol   \n",
       "2                                      Viol entre époux   \n",
       "3     J’ai été touchée par mon frère quand j’étais p...   \n",
       "4                  Toxique-rappeur/manipulateur/menteur   \n",
       "...                                                 ...   \n",
       "2272                                                      \n",
       "2273                                                      \n",
       "2274                                                      \n",
       "2275                                                      \n",
       "2276                                                      \n",
       "\n",
       "                                                  Thème Post  \\\n",
       "0                                     Au sein du couple        \n",
       "1                                                 Autre        \n",
       "2                                     Au sein du couple        \n",
       "3                                       Cercle familial        \n",
       "4                                                 Autre        \n",
       "...                                                 ...  ...   \n",
       "2272  J’ai été touchée par mon frère quand j’étais p...        \n",
       "2273               Toxique-rappeur/manipulateur/menteur        \n",
       "2274                                                           \n",
       "2275                                                           \n",
       "2276                                                           \n",
       "\n",
       "                           Date  \n",
       "0     2023-08-07T14:00:17+02:00  \n",
       "1     2023-08-07T08:47:45+02:00  \n",
       "2     2023-08-06T13:25:39+02:00  \n",
       "3     2023-08-06T00:27:40+02:00  \n",
       "4     2023-08-04T15:39:52+02:00  \n",
       "...                         ...  \n",
       "2272                             \n",
       "2273                             \n",
       "2274  2018-08-10T20:45:37+02:00  \n",
       "2275  2018-08-04T21:30:39+02:00  \n",
       "2276  2018-06-20T17:48:54+02:00  \n",
       "\n",
       "[2277 rows x 4 columns]"
      ]
     },
     "execution_count": 11,
     "metadata": {},
     "output_type": "execute_result"
    }
   ],
   "source": [
    "articles_df = pd.DataFrame(list_articles)\n",
    "articles_df"
   ]
  },
  {
   "cell_type": "code",
   "execution_count": 12,
   "metadata": {},
   "outputs": [],
   "source": [
    "articles_df = articles_df.reset_index()"
   ]
  },
  {
   "cell_type": "code",
   "execution_count": 13,
   "metadata": {},
   "outputs": [],
   "source": [
    "# convert the date column into a datetime object\n",
    "articles_df['Date'] = pd.to_datetime(articles_df['Date'], utc=True)"
   ]
  },
  {
   "cell_type": "code",
   "execution_count": 14,
   "metadata": {},
   "outputs": [
    {
     "name": "stdout",
     "output_type": "stream",
     "text": [
      "      index                                              Titre  \\\n",
      "0         0                Photos à mon insu, pedopornographie   \n",
      "1         1                        Plainte pour menace de viol   \n",
      "2         2                                   Viol entre époux   \n",
      "3         3  J’ai été touchée par mon frère quand j’étais p...   \n",
      "4         4               Toxique-rappeur/manipulateur/menteur   \n",
      "...     ...                                                ...   \n",
      "2272   2272                                                      \n",
      "2273   2273                                                      \n",
      "2274   2274                                                      \n",
      "2275   2275                                                      \n",
      "2276   2276                                                      \n",
      "\n",
      "                                                  Thème Post  \\\n",
      "0                                     Au sein du couple        \n",
      "1                                                 Autre        \n",
      "2                                     Au sein du couple        \n",
      "3                                       Cercle familial        \n",
      "4                                                 Autre        \n",
      "...                                                 ...  ...   \n",
      "2272  J’ai été touchée par mon frère quand j’étais p...        \n",
      "2273               Toxique-rappeur/manipulateur/menteur        \n",
      "2274                                                           \n",
      "2275                                                           \n",
      "2276                                                           \n",
      "\n",
      "                          Date  month    year  \n",
      "0    2023-08-07 12:00:17+00:00    8.0  2023.0  \n",
      "1    2023-08-07 06:47:45+00:00    8.0  2023.0  \n",
      "2    2023-08-06 11:25:39+00:00    8.0  2023.0  \n",
      "3    2023-08-05 22:27:40+00:00    8.0  2023.0  \n",
      "4    2023-08-04 13:39:52+00:00    8.0  2023.0  \n",
      "...                        ...    ...     ...  \n",
      "2272                       NaT    NaN     NaN  \n",
      "2273                       NaT    NaN     NaN  \n",
      "2274 2018-08-10 18:45:37+00:00    8.0  2018.0  \n",
      "2275 2018-08-04 19:30:39+00:00    8.0  2018.0  \n",
      "2276 2018-06-20 15:48:54+00:00    6.0  2018.0  \n",
      "\n",
      "[2277 rows x 7 columns]\n"
     ]
    }
   ],
   "source": [
    "# extract the day, month, and year components\n",
    "articles_df['month'] = articles_df['Date'].dt.month\n",
    "articles_df['year'] = articles_df['Date'].dt.year\n",
    "\n",
    "# show the modified data frame\n",
    "print(articles_df)"
   ]
  },
  {
   "cell_type": "code",
   "execution_count": 20,
   "metadata": {},
   "outputs": [
    {
     "data": {
      "text/plain": [
       "Autre                                                  356\n",
       "Cercle familial                                        324\n",
       "                                                       207\n",
       "Au sein du couple                                      197\n",
       "Au travail                                             162\n",
       "J’ai été touchée par mon frère quand j’étais petite    138\n",
       "Photos à mon insu, pedopornographie                    138\n",
       "Plainte pour menace de viol                            138\n",
       "Toxique-rappeur/manipulateur/menteur                   138\n",
       "Viol entre époux                                       138\n",
       "Milieu médical                                          88\n",
       "Lieu public                                             82\n",
       "Milieu scolaire                                         77\n",
       "Attitude sexiste                                        33\n",
       "Harcèlement de rue                                      32\n",
       "Exhibitionnisme                                         27\n",
       "Milieu religieux                                         2\n",
       "Name: Thème, dtype: int64"
      ]
     },
     "execution_count": 20,
     "metadata": {},
     "output_type": "execute_result"
    }
   ],
   "source": [
    "articles_df['Thème'].value_counts()"
   ]
  },
  {
   "cell_type": "code",
   "execution_count": null,
   "metadata": {},
   "outputs": [],
   "source": [
    "articles_df['year'].value_counts()"
   ]
  },
  {
   "cell_type": "code",
   "execution_count": 15,
   "metadata": {},
   "outputs": [
    {
     "data": {
      "text/html": [
       "<div>\n",
       "<style scoped>\n",
       "    .dataframe tbody tr th:only-of-type {\n",
       "        vertical-align: middle;\n",
       "    }\n",
       "\n",
       "    .dataframe tbody tr th {\n",
       "        vertical-align: top;\n",
       "    }\n",
       "\n",
       "    .dataframe thead th {\n",
       "        text-align: right;\n",
       "    }\n",
       "</style>\n",
       "<table border=\"1\" class=\"dataframe\">\n",
       "  <thead>\n",
       "    <tr style=\"text-align: right;\">\n",
       "      <th></th>\n",
       "      <th>index</th>\n",
       "      <th>year</th>\n",
       "    </tr>\n",
       "  </thead>\n",
       "  <tbody>\n",
       "    <tr>\n",
       "      <th>0</th>\n",
       "      <td>2022.0</td>\n",
       "      <td>866</td>\n",
       "    </tr>\n",
       "    <tr>\n",
       "      <th>1</th>\n",
       "      <td>2023.0</td>\n",
       "      <td>326</td>\n",
       "    </tr>\n",
       "    <tr>\n",
       "      <th>2</th>\n",
       "      <td>2018.0</td>\n",
       "      <td>207</td>\n",
       "    </tr>\n",
       "    <tr>\n",
       "      <th>3</th>\n",
       "      <td>2021.0</td>\n",
       "      <td>188</td>\n",
       "    </tr>\n",
       "  </tbody>\n",
       "</table>\n",
       "</div>"
      ],
      "text/plain": [
       "    index  year\n",
       "0  2022.0   866\n",
       "1  2023.0   326\n",
       "2  2018.0   207\n",
       "3  2021.0   188"
      ]
     },
     "execution_count": 15,
     "metadata": {},
     "output_type": "execute_result"
    }
   ],
   "source": [
    "years_df = articles_df['year'].value_counts().to_frame().reset_index()\n",
    "years_df"
   ]
  },
  {
   "cell_type": "code",
   "execution_count": 16,
   "metadata": {},
   "outputs": [
    {
     "name": "stdout",
     "output_type": "stream",
     "text": [
      "     Year  Nombre de témoignages\n",
      "0  2022.0                    866\n",
      "1  2023.0                    326\n",
      "2  2018.0                    207\n",
      "3  2021.0                    188\n"
     ]
    }
   ],
   "source": [
    "years_df = articles_df['year'].value_counts().to_frame().reset_index()\n",
    "years_df.rename(columns={\"index\":\"Year\", \"year\":\"Nombre de témoignages\"}, inplace=True)\n",
    "print(years_df)"
   ]
  },
  {
   "cell_type": "code",
   "execution_count": 17,
   "metadata": {},
   "outputs": [
    {
     "data": {
      "image/png": "[encoded data removed]",
      "text/plain": [
       "<Figure size 1008x720 with 1 Axes>"
      ]
     },
     "metadata": {
      "needs_background": "light"
     },
     "output_type": "display_data"
    }
   ],
   "source": [
    "plt.figure(figsize=(14, 10))\n",
    "plt.title(\"Nombre de témoignages par année\", fontsize = 20)\n",
    "plt.yticks(np.arange(0, 275, step=25))\n",
    "plt.xticks(rotation= 70)\n",
    "plt.ylabel(\"Nombre de témoignages\", fontsize = 16)\n",
    "plt.xlabel(\"Année de publication\", fontsize = 16)\n",
    "plt.bar(years_df[\"Year\"], years_df[\"Nombre de témoignages\"], width = 0.5, color = \"#EF6F6C\", edgecolor = \"black\")\n",
    "plt.grid(color='#59656F', linestyle='--', linewidth=1, axis='y', alpha=0.7)"
   ]
  },
  {
   "cell_type": "code",
   "execution_count": 19,
   "metadata": {},
   "outputs": [],
   "source": [
    "articles_df.to_csv('file_name.csv', encoding='utf-8')"
   ]
  },
  {
   "cell_type": "code",
   "execution_count": null,
   "metadata": {},
   "outputs": [],
   "source": []
  }
 ],
 "metadata": {
  "kernelspec": {
   "display_name": "Python 3",
   "language": "python",
   "name": "python3"
  },
  "language_info": {
   "codemirror_mode": {
    "name": "ipython",
    "version": 3
   },
   "file_extension": ".py",
   "mimetype": "text/x-python",
   "name": "python",
   "nbconvert_exporter": "python",
   "pygments_lexer": "ipython3",
   "version": "3.8.3"
  }
 },
 "nbformat": 4,
 "nbformat_minor": 4
}
